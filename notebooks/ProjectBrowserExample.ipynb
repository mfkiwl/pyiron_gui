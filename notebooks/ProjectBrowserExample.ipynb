{
 "cells": [
  {
   "cell_type": "code",
   "execution_count": 1,
   "id": "celtic-opera",
   "metadata": {},
   "outputs": [],
   "source": [
    "from pyiron_base import Project\n",
    "from pyiron_gui.project.project_browser import ProjectBrowser"
   ]
  },
  {
   "cell_type": "code",
   "execution_count": 2,
   "id": "aggregate-dialogue",
   "metadata": {},
   "outputs": [],
   "source": [
    "pr = Project('test')"
   ]
  },
  {
   "cell_type": "code",
   "execution_count": 3,
   "id": "persistent-commercial",
   "metadata": {},
   "outputs": [
    {
     "data": {
      "application/vnd.jupyter.widget-view+json": {
       "model_id": "c9290076ab814f34bff64dbb9f5e7f88",
       "version_major": 2,
       "version_minor": 0
      },
      "text/plain": [
       "VBox(children=(HBox(children=(Button(description='Set Path', style=ButtonStyle(), tooltip='Sets current path t…"
      ]
     },
     "metadata": {},
     "output_type": "display_data"
    }
   ],
   "source": [
    "ProjectBrowser(pr)"
   ]
  }
 ],
 "metadata": {
  "kernelspec": {
   "display_name": "Python 3",
   "language": "python",
   "name": "python3"
  },
  "language_info": {
   "codemirror_mode": {
    "name": "ipython",
    "version": 3
   },
   "file_extension": ".py",
   "mimetype": "text/x-python",
   "name": "python",
   "nbconvert_exporter": "python",
   "pygments_lexer": "ipython3",
   "version": "3.8.5"
  }
 },
 "nbformat": 4,
 "nbformat_minor": 5
}
