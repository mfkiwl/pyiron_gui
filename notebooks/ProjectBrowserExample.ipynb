{
 "cells": [
  {
   "cell_type": "code",
   "execution_count": 1,
   "id": "celtic-opera",
   "metadata": {},
   "outputs": [],
   "source": [
    "from pyiron_base import Project\n",
    "from pyiron_gui import ProjectBrowser"
   ]
  },
  {
   "cell_type": "code",
   "execution_count": 2,
   "id": "aggregate-dialogue",
   "metadata": {},
   "outputs": [],
   "source": [
    "pr = Project('test')"
   ]
  },
  {
   "cell_type": "code",
   "execution_count": 3,
   "id": "persistent-commercial",
   "metadata": {},
   "outputs": [
    {
     "data": {
      "application/vnd.jupyter.widget-view+json": {
       "model_id": "71a95cd1752b4e208f97c65735b16636",
       "version_major": 2,
       "version_minor": 0
      },
      "text/plain": [
       "VBox(children=(HBox(children=(Button(description='Set Path', style=ButtonStyle(), tooltip='Sets current path t…"
      ]
     },
     "metadata": {},
     "output_type": "display_data"
    }
   ],
   "source": [
    "ProjectBrowser(pr)"
   ]
  },
  {
   "cell_type": "code",
   "execution_count": null,
   "id": "competent-miami",
   "metadata": {},
   "outputs": [],
   "source": []
  }
 ],
 "metadata": {
  "kernelspec": {
   "display_name": "Python 3",
   "language": "python",
   "name": "python3"
  },
  "language_info": {
   "codemirror_mode": {
    "name": "ipython",
    "version": 3
   },
   "file_extension": ".py",
   "mimetype": "text/x-python",
   "name": "python",
   "nbconvert_exporter": "python",
   "pygments_lexer": "ipython3",
   "version": "3.8.5"
  }
 },
 "nbformat": 4,
 "nbformat_minor": 5
}
